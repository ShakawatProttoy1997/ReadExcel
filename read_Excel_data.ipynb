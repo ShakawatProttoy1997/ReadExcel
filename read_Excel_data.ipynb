{
 "cells": [
  {
   "cell_type": "code",
   "execution_count": 14,
   "id": "f91c627a",
   "metadata": {},
   "outputs": [
    {
     "data": {
      "text/plain": [
       "(11, 4)"
      ]
     },
     "execution_count": 14,
     "metadata": {},
     "output_type": "execute_result"
    }
   ],
   "source": [
    "import pandas as pd\n",
    "import os\n",
    "dataFrame = pd.read_excel(\"C:\\\\Users\\\\Asus\\\\Downloads\\\\Exc.xlsx\", sheet_name = \"Sunday\",index_col = 0);\n",
    "dataFrame\n",
    "dataFrame.shape"
   ]
  },
  {
   "cell_type": "code",
   "execution_count": 15,
   "id": "7ca696a3",
   "metadata": {},
   "outputs": [
    {
     "data": {
      "text/html": [
       "<div>\n",
       "<style scoped>\n",
       "    .dataframe tbody tr th:only-of-type {\n",
       "        vertical-align: middle;\n",
       "    }\n",
       "\n",
       "    .dataframe tbody tr th {\n",
       "        vertical-align: top;\n",
       "    }\n",
       "\n",
       "    .dataframe thead th {\n",
       "        text-align: right;\n",
       "    }\n",
       "</style>\n",
       "<table border=\"1\" class=\"dataframe\">\n",
       "  <thead>\n",
       "    <tr style=\"text-align: right;\">\n",
       "      <th></th>\n",
       "      <th>Unnamed: 1</th>\n",
       "      <th>Unnamed: 2</th>\n",
       "      <th>Unnamed: 3</th>\n",
       "      <th>Unnamed: 4</th>\n",
       "    </tr>\n",
       "  </thead>\n",
       "  <tbody>\n",
       "    <tr>\n",
       "      <th>count</th>\n",
       "      <td>10</td>\n",
       "      <td>10</td>\n",
       "      <td>1</td>\n",
       "      <td>1</td>\n",
       "    </tr>\n",
       "    <tr>\n",
       "      <th>unique</th>\n",
       "      <td>10</td>\n",
       "      <td>10</td>\n",
       "      <td>1</td>\n",
       "      <td>1</td>\n",
       "    </tr>\n",
       "    <tr>\n",
       "      <th>top</th>\n",
       "      <td>Keyword1</td>\n",
       "      <td>Dhaka</td>\n",
       "      <td>Longest Option</td>\n",
       "      <td>Shortest\\nOption</td>\n",
       "    </tr>\n",
       "    <tr>\n",
       "      <th>freq</th>\n",
       "      <td>1</td>\n",
       "      <td>1</td>\n",
       "      <td>1</td>\n",
       "      <td>1</td>\n",
       "    </tr>\n",
       "  </tbody>\n",
       "</table>\n",
       "</div>"
      ],
      "text/plain": [
       "       Unnamed: 1 Unnamed: 2      Unnamed: 3        Unnamed: 4\n",
       "count          10         10               1                 1\n",
       "unique         10         10               1                 1\n",
       "top      Keyword1      Dhaka  Longest Option  Shortest\\nOption\n",
       "freq            1          1               1                 1"
      ]
     },
     "execution_count": 15,
     "metadata": {},
     "output_type": "execute_result"
    }
   ],
   "source": [
    "dataFrame.describe()"
   ]
  },
  {
   "cell_type": "code",
   "execution_count": 16,
   "id": "513f0399",
   "metadata": {},
   "outputs": [
    {
     "data": {
      "text/plain": [
       "array([[nan, nan, 'Longest Option', 'Shortest\\nOption'],\n",
       "       ['Keyword1', 'Dhaka', nan, nan],\n",
       "       ['Keyword2', 'Sunday', nan, nan],\n",
       "       ['Keyword3', 'Baby', nan, nan],\n",
       "       ['Keyword4', 'School', nan, nan],\n",
       "       ['Keyword5', 'Cricket', nan, nan],\n",
       "       ['Keyword6', 'Momey', nan, nan],\n",
       "       ['Keyword7', 'Int', nan, nan],\n",
       "       ['Keyword8', 'Look', nan, nan],\n",
       "       ['Keyword9', 'Hello', nan, nan],\n",
       "       ['Keyword10', 'By', nan, nan]], dtype=object)"
      ]
     },
     "execution_count": 16,
     "metadata": {},
     "output_type": "execute_result"
    }
   ],
   "source": [
    "dataFrame.values"
   ]
  },
  {
   "cell_type": "code",
   "execution_count": 17,
   "id": "6a8dfe8b",
   "metadata": {},
   "outputs": [],
   "source": [
    "#dataFrame.to_excel(\"C:\\\\Users\\\\Asus\\\\Downloads\\\\Exc.xlsx\", sheet_name = \"Sunday\",index = False );"
   ]
  },
  {
   "cell_type": "code",
   "execution_count": 18,
   "id": "fb7bb7a5",
   "metadata": {},
   "outputs": [],
   "source": [
    "#ls *.xlsx"
   ]
  },
  {
   "cell_type": "code",
   "execution_count": 19,
   "id": "d543adc8",
   "metadata": {},
   "outputs": [],
   "source": [
    "#excel_header = [\"ID\", \"Key\",\"Items\"];"
   ]
  },
  {
   "cell_type": "code",
   "execution_count": 20,
   "id": "f5c129e3",
   "metadata": {},
   "outputs": [],
   "source": [
    "#df = pd.DataFrame(columns = excel_header);"
   ]
  },
  {
   "cell_type": "code",
   "execution_count": 21,
   "id": "189d90b1",
   "metadata": {},
   "outputs": [],
   "source": [
    "#writer = pd.ExcelWriter(\"C:\\\\Users\\\\Asus\\\\Downloads\\\\Excel.xlsx\", engine = \"xlsx\");"
   ]
  },
  {
   "cell_type": "code",
   "execution_count": 22,
   "id": "eb747465",
   "metadata": {},
   "outputs": [],
   "source": [
    "#df.to_excel(writer, sheet_name = \"\");"
   ]
  },
  {
   "cell_type": "code",
   "execution_count": 23,
   "id": "97940f80",
   "metadata": {},
   "outputs": [],
   "source": [
    "#writer.save();"
   ]
  },
  {
   "cell_type": "code",
   "execution_count": 24,
   "id": "63062a0d",
   "metadata": {},
   "outputs": [
    {
     "data": {
      "text/plain": [
       "'C:\\\\Users\\\\Asus\\\\read_Excel'"
      ]
     },
     "execution_count": 24,
     "metadata": {},
     "output_type": "execute_result"
    }
   ],
   "source": [
    "os.getcwd()"
   ]
  },
  {
   "cell_type": "code",
   "execution_count": null,
   "id": "c4edf2c6",
   "metadata": {},
   "outputs": [],
   "source": []
  }
 ],
 "metadata": {
  "kernelspec": {
   "display_name": "Python 3 (ipykernel)",
   "language": "python",
   "name": "python3"
  },
  "language_info": {
   "codemirror_mode": {
    "name": "ipython",
    "version": 3
   },
   "file_extension": ".py",
   "mimetype": "text/x-python",
   "name": "python",
   "nbconvert_exporter": "python",
   "pygments_lexer": "ipython3",
   "version": "3.9.12"
  }
 },
 "nbformat": 4,
 "nbformat_minor": 5
}
